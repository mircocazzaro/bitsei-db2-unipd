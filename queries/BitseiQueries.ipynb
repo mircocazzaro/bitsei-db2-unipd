{
 "cells": [
  {
   "cell_type": "markdown",
   "metadata": {},
   "source": [
    "### TODO Query 1: Number of: COVID cases, Opened and Closed Businesses, and Crime Events grouped by month and year"
   ]
  },
  {
   "cell_type": "markdown",
   "metadata": {},
   "source": [
    "### Query 1A: Number of COVID cases and deaths grouped by month and year"
   ]
  },
  {
   "cell_type": "code",
   "execution_count": null,
   "metadata": {
    "vscode": {
     "languageId": "sql"
    }
   },
   "outputs": [],
   "source": [
    "PREFIX lao: <http://www.bitsei.it/losAngelesOntology/>\n",
    "PREFIX xsd: <http://www.w3.org/2001/XMLSchema#>\n",
    "\n",
    "SELECT DISTINCT ?period (SUM(?newCases) AS ?numOfCovidCases) (ROUND((?numOfCovidCases*100 / 30))/100 AS ?casesRatio) (SUM(?newDeaths) AS ?numOfDeaths) (ROUND((?numOfDeaths*100 / 30))/100 AS ?deathsRatio)\n",
    "WHERE {\n",
    "    ?day lao:hasDate ?date ;\n",
    "         lao:hasNewCases ?newCases ;\n",
    "         lao:hasNewDeaths ?newDeaths .\n",
    "         \n",
    "    # convert to strings\n",
    "    BIND(STR(YEAR(?date)) AS ?year)\n",
    "    BIND(STR(MONTH(?date)) AS ?month)\n",
    "    # pad with zeros\n",
    "    BIND(CONCAT(\"00\", ?year) AS ?paddedYear)\n",
    "    BIND(CONCAT(\"0000\", ?month) AS ?paddedMonth)\n",
    "    # extract the right number of digits from the padded strings\n",
    "    BIND(SUBSTR(?paddedYear, STRLEN(?paddedYear)-3) AS ?fourDigitYear)\n",
    "    BIND(SUBSTR(?paddedMonth, STRLEN(?paddedMonth)-1) AS ?twoDigitMonth)\n",
    "    # put it all back together\n",
    "    BIND(CONCAT(?fourDigitYear, \"-\", ?twoDigitMonth) AS ?period)\n",
    "    \n",
    "    FILTER (xsd:date(?date) >= \"2020-01-01\"^^xsd:date && xsd:date(?date) <= \"2022-12-31\"^^xsd:date)\n",
    "}\n",
    "GROUP BY ?period\n",
    "ORDER BY ASC(?period)"
   ]
  },
  {
   "cell_type": "markdown",
   "metadata": {},
   "source": [
    "### Query 1B: Number of Opened Businesses grouped by month and year"
   ]
  },
  {
   "cell_type": "code",
   "execution_count": null,
   "metadata": {
    "vscode": {
     "languageId": "sql"
    }
   },
   "outputs": [],
   "source": [
    "PREFIX lao: <http://www.bitsei.it/losAngelesOntology/>\n",
    "PREFIX xsd: <http://www.w3.org/2001/XMLSchema#>\n",
    "\n",
    "SELECT DISTINCT ?period (COUNT(?openBusiness) AS ?openedBusinesses) (ROUND(?closeedBusinesses*100/ 30)/100 AS ?ratio)\n",
    "WHERE {\n",
    "    ?openBusiness lao:openedOnDate ?day .\n",
    "    ?day lao:hasDate ?date .\n",
    "    \n",
    "    # convert to strings\n",
    "    BIND(STR(YEAR(?date)) AS ?year)\n",
    "    BIND(STR(MONTH(?date)) AS ?month)\n",
    "    # pad with zeros\n",
    "    BIND(CONCAT(\"00\", ?year) AS ?paddedYear)\n",
    "    BIND(CONCAT(\"0000\", ?month) AS ?paddedMonth)\n",
    "    # extract the right number of digits from the padded strings\n",
    "    BIND(SUBSTR(?paddedYear, STRLEN(?paddedYear)-3) AS ?fourDigitYear)\n",
    "    BIND(SUBSTR(?paddedMonth, STRLEN(?paddedMonth)-1) AS ?twoDigitMonth)\n",
    "    # put it all back together\n",
    "    BIND(CONCAT(?fourDigitYear, \"-\", ?twoDigitMonth) AS ?period)\n",
    "    \n",
    "    FILTER (xsd:date(?date) >= \"2020-01-01\"^^xsd:date && xsd:date(?date) <= \"2022-12-31\"^^xsd:date)\n",
    "}\n",
    "GROUP BY ?period\n",
    "ORDER BY ASC(?period)"
   ]
  },
  {
   "cell_type": "markdown",
   "metadata": {},
   "source": [
    "### Query 1C: Number of Closed Businesses grouped by month and year"
   ]
  },
  {
   "cell_type": "code",
   "execution_count": null,
   "metadata": {
    "vscode": {
     "languageId": "sql"
    }
   },
   "outputs": [],
   "source": [
    "PREFIX lao: <http://www.bitsei.it/losAngelesOntology/>\n",
    "PREFIX xsd: <http://www.w3.org/2001/XMLSchema#>\n",
    "\n",
    "SELECT DISTINCT ?period (COUNT(?closeBusiness) AS ?closedBusinesses) (ROUND(?closedBusinesses*100 / 30)/100 AS ?ratio)\n",
    "WHERE {\n",
    "    ?closeBusiness lao:closedOnDate ?day .\n",
    "    ?day lao:hasDate ?date .\n",
    "    \n",
    "    # convert to strings\n",
    "    BIND(STR(YEAR(?date)) AS ?year)\n",
    "    BIND(STR(MONTH(?date)) AS ?month)\n",
    "    # pad with zeros\n",
    "    BIND(CONCAT(\"00\", ?year) AS ?paddedYear)\n",
    "    BIND(CONCAT(\"0000\", ?month) AS ?paddedMonth)\n",
    "    # extract the right number of digits from the padded strings\n",
    "    BIND(SUBSTR(?paddedYear, STRLEN(?paddedYear)-3) AS ?fourDigitYear)\n",
    "    BIND(SUBSTR(?paddedMonth, STRLEN(?paddedMonth)-1) AS ?twoDigitMonth)\n",
    "    # put it all back together\n",
    "    BIND(CONCAT(?fourDigitYear, \"-\", ?twoDigitMonth) AS ?period)\n",
    "    \n",
    "    FILTER (xsd:date(?date) >= \"2020-01-01\"^^xsd:date && xsd:date(?date) <= \"2022-12-31\"^^xsd:date)\n",
    "}\n",
    "GROUP BY ?period\n",
    "ORDER BY ASC(?period)"
   ]
  },
  {
   "cell_type": "markdown",
   "metadata": {},
   "source": [
    "### Query 1D: Number of Crime Events grouped by month and year"
   ]
  },
  {
   "cell_type": "code",
   "execution_count": null,
   "metadata": {
    "vscode": {
     "languageId": "sql"
    }
   },
   "outputs": [],
   "source": [
    "PREFIX lao: <http://www.bitsei.it/losAngelesOntology/>\n",
    "PREFIX xsd: <http://www.w3.org/2001/XMLSchema#>\n",
    "\n",
    "SELECT DISTINCT ?period (COUNT(?crimeEvent) AS ?crimeEvents) (ROUND(?crimeEvents*100 / 30)/100 AS ?ratio)\n",
    "WHERE {\n",
    "    ?crimeEvent lao:occurredOnDate ?day .\n",
    "    ?day lao:hasDate ?date .\n",
    "    \n",
    "    # convert to strings\n",
    "    BIND(STR(YEAR(?date)) AS ?year)\n",
    "    BIND(STR(MONTH(?date)) AS ?month)\n",
    "    # pad with zeros\n",
    "    BIND(CONCAT(\"00\", ?year) AS ?paddedYear)\n",
    "    BIND(CONCAT(\"0000\", ?month) AS ?paddedMonth)\n",
    "    # extract the right number of digits from the padded strings\n",
    "    BIND(SUBSTR(?paddedYear, STRLEN(?paddedYear)-3) AS ?fourDigitYear)\n",
    "    BIND(SUBSTR(?paddedMonth, STRLEN(?paddedMonth)-1) AS ?twoDigitMonth)\n",
    "    # put it all back together\n",
    "    BIND(CONCAT(?fourDigitYear, \"-\", ?twoDigitMonth) AS ?period)\n",
    "    \n",
    "    FILTER (xsd:date(?date) >= \"2020-01-01\"^^xsd:date && xsd:date(?date) <= \"2022-12-31\"^^xsd:date)\n",
    "}\n",
    "GROUP BY ?period\n",
    "ORDER BY ASC(?period)"
   ]
  },
  {
   "cell_type": "markdown",
   "metadata": {},
   "source": [
    "### Query 2A: Number of COVID Cases and Deaths grouped by period, with ratio on period duration"
   ]
  },
  {
   "cell_type": "code",
   "execution_count": null,
   "metadata": {
    "vscode": {
     "languageId": "sql"
    }
   },
   "outputs": [],
   "source": [
    "PREFIX lao: <http://www.bitsei.it/losAngelesOntology/>\n",
    "PREFIX xsd: <http://www.w3.org/2001/XMLSchema#>\n",
    "\n",
    "SELECT DISTINCT ?period (SUM(?newCases) AS ?numOfCovidCases) (ROUND((?numOfCovidCases*100 / 30))/100 AS ?casesRatio) (SUM(?newDeaths) AS ?numOfDeaths) (ROUND((?numOfDeaths*100 / 30))/100 AS ?deathsRatio)\n",
    "WHERE {\n",
    "    ?day lao:hasDate ?date ;\n",
    "         lao:hasNewCases ?newCases ;\n",
    "         lao:hasNewDeaths ?newDeaths .\n",
    "         \n",
    "    # convert to strings\n",
    "    BIND(STR(YEAR(?date)) AS ?year)\n",
    "    BIND(STR(MONTH(?date)) AS ?month)\n",
    "    # pad with zeros\n",
    "    BIND(CONCAT(\"00\", ?year) AS ?paddedYear)\n",
    "    BIND(CONCAT(\"0000\", ?month) AS ?paddedMonth)\n",
    "    # extract the right number of digits from the padded strings\n",
    "    BIND(SUBSTR(?paddedYear, STRLEN(?paddedYear)-3) AS ?fourDigitYear)\n",
    "    BIND(SUBSTR(?paddedMonth, STRLEN(?paddedMonth)-1) AS ?twoDigitMonth)\n",
    "    # put it all back together\n",
    "    BIND(CONCAT(?fourDigitYear, \"-\", ?twoDigitMonth) AS ?period)\n",
    "    \n",
    "    FILTER (xsd:date(?date) >= \"2020-01-01\"^^xsd:date && xsd:date(?date) <= \"2022-12-31\"^^xsd:date)\n",
    "}\n",
    "GROUP BY ?period\n",
    "ORDER BY ASC(?period)"
   ]
  },
  {
   "cell_type": "markdown",
   "metadata": {},
   "source": [
    "### Query 2B: Number of Opened Businesses grouped by period, with ratio on period duration"
   ]
  },
  {
   "cell_type": "code",
   "execution_count": null,
   "metadata": {
    "vscode": {
     "languageId": "sql"
    }
   },
   "outputs": [],
   "source": [
    "PREFIX xsd: <http://www.w3.org/2001/XMLSchema#>\n",
    "PREFIX lao: <http://www.bitsei.it/losAngelesOntology/>\n",
    "PREFIX fn: <http://www.w3.org/2005/xpath-functions#>\n",
    "\n",
    "SELECT ?periodLabel ?startDateParsed ?endDateParsed ?duration (COUNT(?openBusiness) AS ?openedBusinesses) (ROUND(?openedBusinesses*100/?duration)/100 AS ?openedRatio)\n",
    "WHERE {\n",
    "    ?openBusiness lao:openedOnDate ?day .\n",
    "    ?day lao:hasDate ?date ;\n",
    "         lao:belongsTo ?period .\n",
    "    ?period lao:hasLabel ?periodLabel ;\n",
    "            lao:hasStartDate ?startDate ;\n",
    "            lao:hasEndDate ?endDate ;\n",
    "            lao:hasDuration ?duration .\n",
    "         \n",
    "    FILTER(?date >= ?startDate && ?date <= ?endDate)\n",
    "    BIND(SUBSTR(STR(?startDate), 1, 10) AS ?startDateParsed)\n",
    "    BIND(SUBSTR(STR(?endDate), 1, 10) AS ?endDateParsed)\n",
    "}\n",
    "GROUP BY ?periodLabel ?startDateParsed ?endDateParsed ?duration\n",
    "ORDER BY ?startDateParsed "
   ]
  },
  {
   "cell_type": "markdown",
   "metadata": {},
   "source": [
    "### Query 2C: Number of Closed Businesses grouped by period, with ratio on period duration"
   ]
  },
  {
   "cell_type": "code",
   "execution_count": null,
   "metadata": {
    "vscode": {
     "languageId": "sql"
    }
   },
   "outputs": [],
   "source": [
    "PREFIX xsd: <http://www.w3.org/2001/XMLSchema#>\n",
    "PREFIX lao: <http://www.bitsei.it/losAngelesOntology/>\n",
    "PREFIX fn: <http://www.w3.org/2005/xpath-functions#>\n",
    "\n",
    "SELECT ?periodLabel ?startDateParsed ?endDateParsed ?duration (COUNT(?closeBusiness) AS ?closedBusinesses) (ROUND(?closedBusinesses*100/?duration)/100 AS ?closedRatio)\n",
    "WHERE {\n",
    "    ?closeBusiness lao:closedOnDate ?day .\n",
    "    ?day lao:hasDate ?date ;\n",
    "         lao:belongsTo ?period .\n",
    "    ?period lao:hasLabel ?periodLabel ;\n",
    "            lao:hasStartDate ?startDate ;\n",
    "            lao:hasEndDate ?endDate ;\n",
    "            lao:hasDuration ?duration .\n",
    "         \n",
    "    FILTER(?date >= ?startDate && ?date <= ?endDate)\n",
    "    BIND(SUBSTR(STR(?startDate), 1, 10) AS ?startDateParsed)\n",
    "    BIND(SUBSTR(STR(?endDate), 1, 10) AS ?endDateParsed)\n",
    "}\n",
    "GROUP BY ?periodLabel ?startDateParsed ?endDateParsed ?duration\n",
    "ORDER BY ?startDateParsed "
   ]
  },
  {
   "cell_type": "markdown",
   "metadata": {},
   "source": [
    "### Query 2D: Number of Crime Events grouped by period, with ratio on period duration"
   ]
  },
  {
   "cell_type": "code",
   "execution_count": null,
   "metadata": {
    "vscode": {
     "languageId": "sql"
    }
   },
   "outputs": [],
   "source": [
    "PREFIX xsd: <http://www.w3.org/2001/XMLSchema#>\n",
    "PREFIX lao: <http://www.bitsei.it/losAngelesOntology/>\n",
    "PREFIX fn: <http://www.w3.org/2005/xpath-functions#>\n",
    "\n",
    "SELECT ?periodLabel ?startDateParsed ?endDateParsed ?duration (COUNT(?crimeEvent) AS ?crimeEvents) (ROUND(?crimeEvents*100/?duration)/100 AS ?crimeEventsRatio)\n",
    "WHERE {\n",
    "    ?crimeEvent lao:occurredOnDate ?day .\n",
    "    ?day lao:hasDate ?date ;\n",
    "         lao:belongsTo ?period .\n",
    "    ?period lao:hasLabel ?periodLabel ;\n",
    "            lao:hasStartDate ?startDate ;\n",
    "            lao:hasEndDate ?endDate ;\n",
    "            lao:hasDuration ?duration .\n",
    "         \n",
    "    FILTER(?date >= ?startDate && ?date <= ?endDate)\n",
    "    BIND(SUBSTR(STR(?startDate), 1, 10) AS ?startDateParsed)\n",
    "    BIND(SUBSTR(STR(?endDate), 1, 10) AS ?endDateParsed)\n",
    "}\n",
    "GROUP BY ?periodLabel ?startDateParsed ?endDateParsed ?duration\n",
    "ORDER BY ?startDateParsed "
   ]
  },
  {
   "cell_type": "markdown",
   "metadata": {},
   "source": [
    "### Query 3A: Number of Opened Businesses grouped by area, with ratio on area surface"
   ]
  },
  {
   "cell_type": "code",
   "execution_count": null,
   "metadata": {
    "vscode": {
     "languageId": "sql"
    }
   },
   "outputs": [],
   "source": [
    "PREFIX lao: <http://www.bitsei.it/losAngelesOntology/>\n",
    "PREFIX xsd: <http://www.w3.org/2001/XMLSchema#>\n",
    "\n",
    "SELECT DISTINCT ?areaName ?areaAcronym (ROUND(?areaSurface*100)/100 AS ?areaSize) (COUNT(?openBusiness) AS ?openedBusinesses) (((ROUND(?openedBusinesses * 1000 / ?areaSurface)) / 1000) AS ?ratio) \n",
    "WHERE {\n",
    "    ?openBusiness lao:openedOnDate ?day ;\n",
    "                  lao:locatedIn ?location .\n",
    "    ?day lao:hasDate ?date .\n",
    "    ?location lao:belongsToArea ?area .\n",
    "    ?area lao:areaName ?areaName ;\n",
    "          lao:areaAcronym ?areaAcronym ;\n",
    "          lao:areaSurface ?areaSurface\n",
    "    # convert to strings\n",
    "    BIND(STR(YEAR(?date)) AS ?year)\n",
    "    BIND(STR(MONTH(?date)) AS ?month)\n",
    "    # pad with zeros\n",
    "    BIND(CONCAT(\"00\", ?year) AS ?paddedYear)\n",
    "    BIND(CONCAT(\"0000\", ?month) AS ?paddedMonth)\n",
    "    # extract the right number of digits from the padded strings\n",
    "    BIND(SUBSTR(?paddedYear, STRLEN(?paddedYear)-3) AS ?fourDigitYear)\n",
    "    BIND(SUBSTR(?paddedMonth, STRLEN(?paddedMonth)-1) AS ?twoDigitMonth)\n",
    "    # put it all back together\n",
    "    BIND(CONCAT(?fourDigitYear, \"-\", ?twoDigitMonth) AS ?period)\n",
    "    \n",
    "    FILTER (xsd:date(?date) >= \"2020-01-01\"^^xsd:date && xsd:date(?date) <= \"2022-12-31\"^^xsd:date)\n",
    "}\n",
    "GROUP BY ?areaName ?areaAcronym ?areaSurface\n",
    "ORDER BY DESC(?ratio)"
   ]
  },
  {
   "cell_type": "markdown",
   "metadata": {},
   "source": [
    "### Query 3B: Number of Closed Businesses grouped by area, with ratio on area surface"
   ]
  },
  {
   "cell_type": "code",
   "execution_count": null,
   "metadata": {
    "vscode": {
     "languageId": "sql"
    }
   },
   "outputs": [],
   "source": [
    "PREFIX lao: <http://www.bitsei.it/losAngelesOntology/>\n",
    "PREFIX xsd: <http://www.w3.org/2001/XMLSchema#>\n",
    "\n",
    "SELECT DISTINCT ?areaName ?areaAcronym (ROUND(?areaSurface*100)/100 AS ?areaSize) (COUNT(?closeBusiness) AS ?closedBusinesses) (((ROUND(?closedBusinesses * 1000 / ?areaSurface)) / 1000) AS ?ratio) \n",
    "WHERE {\n",
    "    ?closeBusiness lao:closedOnDate ?day ;\n",
    "                  lao:locatedIn ?location .\n",
    "    ?day lao:hasDate ?date .\n",
    "    ?location lao:belongsToArea ?area .\n",
    "    ?area lao:areaName ?areaName ;\n",
    "          lao:areaAcronym ?areaAcronym ;\n",
    "          lao:areaSurface ?areaSurface\n",
    "    # convert to strings\n",
    "    BIND(STR(YEAR(?date)) AS ?year)\n",
    "    BIND(STR(MONTH(?date)) AS ?month)\n",
    "    # pad with zeros\n",
    "    BIND(CONCAT(\"00\", ?year) AS ?paddedYear)\n",
    "    BIND(CONCAT(\"0000\", ?month) AS ?paddedMonth)\n",
    "    # extract the right number of digits from the padded strings\n",
    "    BIND(SUBSTR(?paddedYear, STRLEN(?paddedYear)-3) AS ?fourDigitYear)\n",
    "    BIND(SUBSTR(?paddedMonth, STRLEN(?paddedMonth)-1) AS ?twoDigitMonth)\n",
    "    # put it all back together\n",
    "    BIND(CONCAT(?fourDigitYear, \"-\", ?twoDigitMonth) AS ?period)\n",
    "    \n",
    "    FILTER (xsd:date(?date) >= \"2020-01-01\"^^xsd:date && xsd:date(?date) <= \"2022-12-31\"^^xsd:date)\n",
    "}\n",
    "GROUP BY ?areaName ?areaAcronym ?areaSurface\n",
    "ORDER BY DESC(?ratio)"
   ]
  },
  {
   "cell_type": "markdown",
   "metadata": {},
   "source": [
    "### Query 3C: Number of Crime Events grouped by area, with ratio on area surface"
   ]
  },
  {
   "cell_type": "code",
   "execution_count": null,
   "metadata": {
    "vscode": {
     "languageId": "sql"
    }
   },
   "outputs": [],
   "source": [
    "PREFIX lao: <http://www.bitsei.it/losAngelesOntology/>\n",
    "PREFIX xsd: <http://www.w3.org/2001/XMLSchema#>\n",
    "\n",
    "SELECT DISTINCT ?areaName ?areaAcronym (ROUND(?areaSurface*100)/100 AS ?areaSize) (COUNT(?crimeEvent) AS ?crimeEvents) (((ROUND(?crimeEvents * 1000 / ?areaSurface)) / 1000) AS ?ratio) \n",
    "WHERE {\n",
    "    ?crimeEvent lao:occurredOnDate ?day ;\n",
    "                  lao:occurredInLocation ?location .\n",
    "    ?day lao:hasDate ?date .\n",
    "    ?location lao:belongsToArea ?area .\n",
    "    ?area lao:areaName ?areaName ;\n",
    "          lao:areaAcronym ?areaAcronym ;\n",
    "          lao:areaSurface ?areaSurface\n",
    "    # convert to strings\n",
    "    BIND(STR(YEAR(?date)) AS ?year)\n",
    "    BIND(STR(MONTH(?date)) AS ?month)\n",
    "    # pad with zeros\n",
    "    BIND(CONCAT(\"00\", ?year) AS ?paddedYear)\n",
    "    BIND(CONCAT(\"0000\", ?month) AS ?paddedMonth)\n",
    "    # extract the right number of digits from the padded strings\n",
    "    BIND(SUBSTR(?paddedYear, STRLEN(?paddedYear)-3) AS ?fourDigitYear)\n",
    "    BIND(SUBSTR(?paddedMonth, STRLEN(?paddedMonth)-1) AS ?twoDigitMonth)\n",
    "    # put it all back together\n",
    "    BIND(CONCAT(?fourDigitYear, \"-\", ?twoDigitMonth) AS ?period)\n",
    "    \n",
    "    FILTER (xsd:date(?date) >= \"2020-01-01\"^^xsd:date && xsd:date(?date) <= \"2022-12-31\"^^xsd:date)\n",
    "}\n",
    "GROUP BY ?areaName ?areaAcronym ?areaSurface\n",
    "ORDER BY DESC(?ratio)"
   ]
  },
  {
   "cell_type": "markdown",
   "metadata": {},
   "source": [
    "### Query 3D: Number of Violent Crime Events grouped by area, with ratio on area surface"
   ]
  },
  {
   "cell_type": "code",
   "execution_count": null,
   "metadata": {
    "vscode": {
     "languageId": "sql"
    }
   },
   "outputs": [],
   "source": [
    "PREFIX lao: <http://www.bitsei.it/losAngelesOntology/>\n",
    "PREFIX xsd: <http://www.w3.org/2001/XMLSchema#>\n",
    "\n",
    "SELECT DISTINCT ?areaName ?areaAcronym (ROUND(?areaSurface*100)/100 AS ?areaSize) (COUNT(?crimeEvent) AS ?crimeEvents) (((ROUND(?crimeEvents * 1000 / ?areaSurface)) / 1000) AS ?ratio) \n",
    "WHERE {\n",
    "    ?crimeEvent lao:occurredOnDate ?day ;\n",
    "                  lao:occurredInLocation ?location ;\n",
    "                  lao:isOfType ?crimeCat .\n",
    "    ?crimeCat a lao:ViolentCrime . \n",
    "    ?day lao:hasDate ?date .\n",
    "    ?location lao:belongsToArea ?area .\n",
    "    ?area lao:areaName ?areaName ;\n",
    "          lao:areaAcronym ?areaAcronym ;\n",
    "          lao:areaSurface ?areaSurface\n",
    "    # convert to strings\n",
    "    BIND(STR(YEAR(?date)) AS ?year)\n",
    "    BIND(STR(MONTH(?date)) AS ?month)\n",
    "    # pad with zeros\n",
    "    BIND(CONCAT(\"00\", ?year) AS ?paddedYear)\n",
    "    BIND(CONCAT(\"0000\", ?month) AS ?paddedMonth)\n",
    "    # extract the right number of digits from the padded strings\n",
    "    BIND(SUBSTR(?paddedYear, STRLEN(?paddedYear)-3) AS ?fourDigitYear)\n",
    "    BIND(SUBSTR(?paddedMonth, STRLEN(?paddedMonth)-1) AS ?twoDigitMonth)\n",
    "    # put it all back together\n",
    "    BIND(CONCAT(?fourDigitYear, \"-\", ?twoDigitMonth) AS ?period)\n",
    "    \n",
    "    FILTER (xsd:date(?date) >= \"2020-01-01\"^^xsd:date && xsd:date(?date) <= \"2022-12-31\"^^xsd:date)\n",
    "}\n",
    "GROUP BY ?areaName ?areaAcronym ?areaSurface ?crimeCat\n",
    "ORDER BY DESC(?ratio)"
   ]
  },
  {
   "cell_type": "markdown",
   "metadata": {},
   "source": [
    "### Query 3E: Number of Sexual Crime Events grouped by area, with ratio on area surface"
   ]
  },
  {
   "cell_type": "code",
   "execution_count": null,
   "metadata": {
    "vscode": {
     "languageId": "sql"
    }
   },
   "outputs": [],
   "source": [
    "PREFIX lao: <http://www.bitsei.it/losAngelesOntology/>\n",
    "PREFIX xsd: <http://www.w3.org/2001/XMLSchema#>\n",
    "\n",
    "SELECT DISTINCT ?areaName ?areaAcronym (ROUND(?areaSurface*100)/100 AS ?areaSize) (COUNT(?crimeEvent) AS ?crimeEvents) (((ROUND(?crimeEvents * 1000 / ?areaSurface)) / 1000) AS ?ratio) \n",
    "WHERE {\n",
    "    ?crimeEvent lao:occurredOnDate ?day ;\n",
    "                  lao:occurredInLocation ?location ;\n",
    "                  lao:isOfType ?crimeCat .\n",
    "    ?crimeCat a lao:SexualCrime . \n",
    "    ?day lao:hasDate ?date .\n",
    "    ?location lao:belongsToArea ?area .\n",
    "    ?area lao:areaName ?areaName ;\n",
    "          lao:areaAcronym ?areaAcronym ;\n",
    "          lao:areaSurface ?areaSurface\n",
    "    # convert to strings\n",
    "    BIND(STR(YEAR(?date)) AS ?year)\n",
    "    BIND(STR(MONTH(?date)) AS ?month)\n",
    "    # pad with zeros\n",
    "    BIND(CONCAT(\"00\", ?year) AS ?paddedYear)\n",
    "    BIND(CONCAT(\"0000\", ?month) AS ?paddedMonth)\n",
    "    # extract the right number of digits from the padded strings\n",
    "    BIND(SUBSTR(?paddedYear, STRLEN(?paddedYear)-3) AS ?fourDigitYear)\n",
    "    BIND(SUBSTR(?paddedMonth, STRLEN(?paddedMonth)-1) AS ?twoDigitMonth)\n",
    "    # put it all back together\n",
    "    BIND(CONCAT(?fourDigitYear, \"-\", ?twoDigitMonth) AS ?period)\n",
    "    \n",
    "    FILTER (xsd:date(?date) >= \"2020-01-01\"^^xsd:date && xsd:date(?date) <= \"2022-12-31\"^^xsd:date)\n",
    "}\n",
    "GROUP BY ?areaName ?areaAcronym ?areaSurface ?crimeCat\n",
    "ORDER BY DESC(?ratio)"
   ]
  },
  {
   "cell_type": "markdown",
   "metadata": {},
   "source": [
    "### Query 3F: Number of Property Crime Events grouped by area, with ratio on area surface"
   ]
  },
  {
   "cell_type": "code",
   "execution_count": null,
   "metadata": {
    "vscode": {
     "languageId": "sql"
    }
   },
   "outputs": [],
   "source": [
    "PREFIX lao: <http://www.bitsei.it/losAngelesOntology/>\n",
    "PREFIX xsd: <http://www.w3.org/2001/XMLSchema#>\n",
    "\n",
    "SELECT DISTINCT ?areaName ?areaAcronym (ROUND(?areaSurface*100)/100 AS ?areaSize) (COUNT(?crimeEvent) AS ?crimeEvents) (((ROUND(?crimeEvents * 1000 / ?areaSurface)) / 1000) AS ?ratio) \n",
    "WHERE {\n",
    "    ?crimeEvent lao:occurredOnDate ?day ;\n",
    "                  lao:occurredInLocation ?location ;\n",
    "                  lao:isOfType ?crimeCat .\n",
    "    ?crimeCat a lao:PropertyCrime . \n",
    "    ?day lao:hasDate ?date .\n",
    "    ?location lao:belongsToArea ?area .\n",
    "    ?area lao:areaName ?areaName ;\n",
    "          lao:areaAcronym ?areaAcronym ;\n",
    "          lao:areaSurface ?areaSurface\n",
    "    # convert to strings\n",
    "    BIND(STR(YEAR(?date)) AS ?year)\n",
    "    BIND(STR(MONTH(?date)) AS ?month)\n",
    "    # pad with zeros\n",
    "    BIND(CONCAT(\"00\", ?year) AS ?paddedYear)\n",
    "    BIND(CONCAT(\"0000\", ?month) AS ?paddedMonth)\n",
    "    # extract the right number of digits from the padded strings\n",
    "    BIND(SUBSTR(?paddedYear, STRLEN(?paddedYear)-3) AS ?fourDigitYear)\n",
    "    BIND(SUBSTR(?paddedMonth, STRLEN(?paddedMonth)-1) AS ?twoDigitMonth)\n",
    "    # put it all back together\n",
    "    BIND(CONCAT(?fourDigitYear, \"-\", ?twoDigitMonth) AS ?period)\n",
    "    \n",
    "    FILTER (xsd:date(?date) >= \"2020-01-01\"^^xsd:date && xsd:date(?date) <= \"2022-12-31\"^^xsd:date)\n",
    "}\n",
    "GROUP BY ?areaName ?areaAcronym ?areaSurface ?crimeCat\n",
    "ORDER BY DESC(?ratio)"
   ]
  },
  {
   "cell_type": "markdown",
   "metadata": {},
   "source": [
    "### Query 3G: Number of White Collar Crime Events grouped by area, with ratio on area surface"
   ]
  },
  {
   "cell_type": "code",
   "execution_count": null,
   "metadata": {
    "vscode": {
     "languageId": "sql"
    }
   },
   "outputs": [],
   "source": [
    "PREFIX lao: <http://www.bitsei.it/losAngelesOntology/>\n",
    "PREFIX xsd: <http://www.w3.org/2001/XMLSchema#>\n",
    "\n",
    "SELECT DISTINCT ?areaName ?areaAcronym (ROUND(?areaSurface*100)/100 AS ?areaSize) (COUNT(?crimeEvent) AS ?crimeEvents) (((ROUND(?crimeEvents * 1000 / ?areaSurface)) / 1000) AS ?ratio) \n",
    "WHERE {\n",
    "    ?crimeEvent lao:occurredOnDate ?day ;\n",
    "                  lao:occurredInLocation ?location ;\n",
    "                  lao:isOfType ?crimeCat .\n",
    "    ?crimeCat a lao:WhiteCollarCrime . \n",
    "    ?day lao:hasDate ?date .\n",
    "    ?location lao:belongsToArea ?area .\n",
    "    ?area lao:areaName ?areaName ;\n",
    "          lao:areaAcronym ?areaAcronym ;\n",
    "          lao:areaSurface ?areaSurface\n",
    "    # convert to strings\n",
    "    BIND(STR(YEAR(?date)) AS ?year)\n",
    "    BIND(STR(MONTH(?date)) AS ?month)\n",
    "    # pad with zeros\n",
    "    BIND(CONCAT(\"00\", ?year) AS ?paddedYear)\n",
    "    BIND(CONCAT(\"0000\", ?month) AS ?paddedMonth)\n",
    "    # extract the right number of digits from the padded strings\n",
    "    BIND(SUBSTR(?paddedYear, STRLEN(?paddedYear)-3) AS ?fourDigitYear)\n",
    "    BIND(SUBSTR(?paddedMonth, STRLEN(?paddedMonth)-1) AS ?twoDigitMonth)\n",
    "    # put it all back together\n",
    "    BIND(CONCAT(?fourDigitYear, \"-\", ?twoDigitMonth) AS ?period)\n",
    "    \n",
    "    FILTER (xsd:date(?date) >= \"2020-01-01\"^^xsd:date && xsd:date(?date) <= \"2022-12-31\"^^xsd:date)\n",
    "}\n",
    "GROUP BY ?areaName ?areaAcronym ?areaSurface ?crimeCat\n",
    "ORDER BY DESC(?ratio)"
   ]
  },
  {
   "cell_type": "markdown",
   "metadata": {},
   "source": [
    "### Query 3H: Number of Public Order Crime Events grouped by area, with ratio on area surface"
   ]
  },
  {
   "cell_type": "code",
   "execution_count": null,
   "metadata": {
    "vscode": {
     "languageId": "sql"
    }
   },
   "outputs": [],
   "source": [
    "PREFIX lao: <http://www.bitsei.it/losAngelesOntology/>\n",
    "PREFIX xsd: <http://www.w3.org/2001/XMLSchema#>\n",
    "\n",
    "SELECT DISTINCT ?areaName ?areaAcronym (ROUND(?areaSurface*100)/100 AS ?areaSize) (COUNT(?crimeEvent) AS ?crimeEvents) (((ROUND(?crimeEvents * 1000 / ?areaSurface)) / 1000) AS ?ratio) \n",
    "WHERE {\n",
    "    ?crimeEvent lao:occurredOnDate ?day ;\n",
    "                  lao:occurredInLocation ?location ;\n",
    "                  lao:isOfType ?crimeCat .\n",
    "    ?crimeCat a lao:PublicOrderCrime . \n",
    "    ?day lao:hasDate ?date .\n",
    "    ?location lao:belongsToArea ?area .\n",
    "    ?area lao:areaName ?areaName ;\n",
    "          lao:areaAcronym ?areaAcronym ;\n",
    "          lao:areaSurface ?areaSurface\n",
    "    # convert to strings\n",
    "    BIND(STR(YEAR(?date)) AS ?year)\n",
    "    BIND(STR(MONTH(?date)) AS ?month)\n",
    "    # pad with zeros\n",
    "    BIND(CONCAT(\"00\", ?year) AS ?paddedYear)\n",
    "    BIND(CONCAT(\"0000\", ?month) AS ?paddedMonth)\n",
    "    # extract the right number of digits from the padded strings\n",
    "    BIND(SUBSTR(?paddedYear, STRLEN(?paddedYear)-3) AS ?fourDigitYear)\n",
    "    BIND(SUBSTR(?paddedMonth, STRLEN(?paddedMonth)-1) AS ?twoDigitMonth)\n",
    "    # put it all back together\n",
    "    BIND(CONCAT(?fourDigitYear, \"-\", ?twoDigitMonth) AS ?period)\n",
    "    \n",
    "    FILTER (xsd:date(?date) >= \"2020-01-01\"^^xsd:date && xsd:date(?date) <= \"2022-12-31\"^^xsd:date)\n",
    "}\n",
    "GROUP BY ?areaName ?areaAcronym ?areaSurface ?crimeCat\n",
    "ORDER BY DESC(?ratio)"
   ]
  },
  {
   "cell_type": "markdown",
   "metadata": {},
   "source": [
    "### Query 4A: Number of Opened Businesses grouped by NAICS code"
   ]
  },
  {
   "cell_type": "code",
   "execution_count": null,
   "metadata": {
    "vscode": {
     "languageId": "sql"
    }
   },
   "outputs": [],
   "source": [
    "PREFIX lao: <http://www.bitsei.it/losAngelesOntology/>\n",
    "PREFIX xsd: <http://www.w3.org/2001/XMLSchema#>\n",
    "\n",
    "SELECT DISTINCT ?naicsCode ?naicsDesc (COUNT(?openBusiness) AS ?openedBusinesses) (ROUND(?openedBusinesses*1000 / ?totBusinesses)/1000 AS ?ratio) \n",
    "WHERE {\n",
    "    ?openBusiness lao:openedOnDate ?day ;\n",
    "                  lao:hasNaics ?naics .\n",
    "    ?day lao:hasDate ?date .\n",
    "    ?naics lao:naicsCode ?naicsCode ;\n",
    "           lao:naicsDescription ?naicsDesc .\n",
    "    # convert to strings\n",
    "    BIND(STR(YEAR(?date)) AS ?year)\n",
    "    BIND(STR(MONTH(?date)) AS ?month)\n",
    "    # pad with zeros\n",
    "    BIND(CONCAT(\"00\", ?year) AS ?paddedYear)\n",
    "    BIND(CONCAT(\"0000\", ?month) AS ?paddedMonth)\n",
    "    # extract the right number of digits from the padded strings\n",
    "    BIND(SUBSTR(?paddedYear, STRLEN(?paddedYear)-3) AS ?fourDigitYear)\n",
    "    BIND(SUBSTR(?paddedMonth, STRLEN(?paddedMonth)-1) AS ?twoDigitMonth)\n",
    "    # put it all back together\n",
    "    BIND(CONCAT(?fourDigitYear, \"-\", ?twoDigitMonth) AS ?period)\n",
    "    \n",
    "    FILTER (xsd:date(?date) >= \"2020-01-01\"^^xsd:date && xsd:date(?date) <= \"2022-12-31\"^^xsd:date)\n",
    "\n",
    "    {\n",
    "        SELECT DISTINCT (COUNT(?openBus) AS ?totBusinesses) \n",
    "        WHERE {\n",
    "            ?openBus lao:openedOnDate ?openDay .\n",
    "            ?openDay lao:hasDate ?openDate .\n",
    "            FILTER (xsd:date(?openDate) >= \"2020-01-01\"^^xsd:date && xsd:date(?openDate) <= \"2022-12-31\"^^xsd:date)\n",
    "        }                        \n",
    "    }\n",
    "}\n",
    "GROUP BY ?naicsCode ?naicsDesc ?totBusinesses\n",
    "ORDER BY DESC(?openedBusinesses)"
   ]
  },
  {
   "cell_type": "markdown",
   "metadata": {},
   "source": [
    "### Query 4B: Number of Closed Businesses grouped by NAICS code"
   ]
  },
  {
   "cell_type": "code",
   "execution_count": null,
   "metadata": {
    "vscode": {
     "languageId": "sql"
    }
   },
   "outputs": [],
   "source": [
    "PREFIX lao: <http://www.bitsei.it/losAngelesOntology/>\n",
    "PREFIX xsd: <http://www.w3.org/2001/XMLSchema#>\n",
    "\n",
    "SELECT DISTINCT ?naicsCode ?naicsDesc (COUNT(?closeBusiness) AS ?closedBusinesses) (ROUND(?closedBusinesses*1000 / ?totBusinesses)/1000 AS ?ratio) \n",
    "WHERE {\n",
    "    ?closeBusiness lao:closedOnDate ?day ;\n",
    "                  lao:hasNaics ?naics .\n",
    "    ?day lao:hasDate ?date .\n",
    "    ?naics lao:naicsCode ?naicsCode ;\n",
    "           lao:naicsDescription ?naicsDesc .\n",
    "    # convert to strings\n",
    "    BIND(STR(YEAR(?date)) AS ?year)\n",
    "    BIND(STR(MONTH(?date)) AS ?month)\n",
    "    # pad with zeros\n",
    "    BIND(CONCAT(\"00\", ?year) AS ?paddedYear)\n",
    "    BIND(CONCAT(\"0000\", ?month) AS ?paddedMonth)\n",
    "    # extract the right number of digits from the padded strings\n",
    "    BIND(SUBSTR(?paddedYear, STRLEN(?paddedYear)-3) AS ?fourDigitYear)\n",
    "    BIND(SUBSTR(?paddedMonth, STRLEN(?paddedMonth)-1) AS ?twoDigitMonth)\n",
    "    # put it all back together\n",
    "    BIND(CONCAT(?fourDigitYear, \"-\", ?twoDigitMonth) AS ?period)\n",
    "    \n",
    "    FILTER (xsd:date(?date) >= \"2020-01-01\"^^xsd:date && xsd:date(?date) <= \"2022-12-31\"^^xsd:date)\n",
    "\n",
    "    {\n",
    "        SELECT DISTINCT (COUNT(?closeBus) AS ?totBusinesses) \n",
    "        WHERE {\n",
    "            ?closeBus lao:closedOnDate ?closeDay .\n",
    "            ?closeDay lao:hasDate ?closeDate .\t\t\n",
    "            FILTER (xsd:date(?closeDate) >= \"2020-01-01\"^^xsd:date && xsd:date(?closeDate) <= \"2022-12-31\"^^xsd:date)\n",
    "        }                        \n",
    "    }\n",
    "}\n",
    "GROUP BY ?naicsCode ?naicsDesc ?totBusinesses\n",
    "ORDER BY DESC(?closedBusinesses)"
   ]
  },
  {
   "cell_type": "markdown",
   "metadata": {},
   "source": [
    "### Query 5A: Number of Crime Events grouped by crime category"
   ]
  },
  {
   "cell_type": "code",
   "execution_count": null,
   "metadata": {
    "vscode": {
     "languageId": "sql"
    }
   },
   "outputs": [],
   "source": [
    "PREFIX lao: <http://www.bitsei.it/losAngelesOntology/>\n",
    "PREFIX xsd: <http://www.w3.org/2001/XMLSchema#>\n",
    "\n",
    "SELECT ?crimeCatParsed (COUNT(?crimeEvent) AS ?numOfCrimeEvents) \n",
    "WHERE {\n",
    "    ?crimeEvent lao:isOfType ?crime .\n",
    "    ?crime a ?crimeCat .\n",
    "    FILTER(?crimeCat in (lao:ViolentCrime, lao:SexualCrime, lao:PropertyCrime, lao:WhiteCollarCrime, lao:PublicOrderCrime)) \n",
    "    BIND(REPLACE(STR(?crimeCat), \".*/\", \"\") AS ?crimeCatParsed)\n",
    "}\n",
    "GROUP BY(?crimeCatParsed)\n",
    "ORDER BY DESC(?numOfCrimeEvents)"
   ]
  },
  {
   "cell_type": "markdown",
   "metadata": {},
   "source": [
    "### Query 5B: Number of Crime Events grouped by period and crime category"
   ]
  },
  {
   "cell_type": "code",
   "execution_count": null,
   "metadata": {
    "vscode": {
     "languageId": "sql"
    }
   },
   "outputs": [],
   "source": [
    "PREFIX lao: <http://www.bitsei.it/losAngelesOntology/>\n",
    "PREFIX xsd: <http://www.w3.org/2001/XMLSchema#>\n",
    "\n",
    "SELECT ?periodLabel \n",
    "(SUBSTR(STR(?startDate), 1, 10) AS ?startDateParsed) (SUBSTR(STR(?endDate), 1, 10) AS ?endDateParsed) \n",
    "?numSexualCrimes ?numPropertyCrimes ?numWhiteCollarCrimes ?numViolentCrimes ?numPublicOrderCrimes\n",
    "WHERE {\n",
    "\n",
    "    {\n",
    "        SELECT ?periodLabel ?startDate ?endDate (COUNT(?crimeEvent) AS ?numSexualCrimes)  \n",
    "        WHERE {\n",
    "            ?crimeEvent lao:occurredOnDate ?day ;\n",
    "                        lao:isOfType ?crime .\n",
    "            ?crime a lao:SexualCrime .\n",
    "            ?day lao:hasDate ?date ;\n",
    "                 lao:belongsTo ?period .\n",
    "            ?period lao:hasLabel ?periodLabel ;\n",
    "                    lao:hasStartDate ?startDate ;\n",
    "                    lao:hasEndDate ?endDate.\n",
    "\n",
    "            FILTER (xsd:date(?date) >= \"2020-01-01\"^^xsd:date && xsd:date(?date) <= \"2021-12-31\"^^xsd:date)\n",
    "\t\t}\n",
    "        GROUP BY ?periodLabel ?startDate ?endDate        \n",
    "    }\n",
    "    \n",
    "\t{\n",
    "        SELECT ?periodLabel ?startDate ?endDate (COUNT(?crimeEvent) AS ?numPropertyCrimes)  \n",
    "        WHERE {\n",
    "            ?crimeEvent lao:occurredOnDate ?day ;\n",
    "                        lao:isOfType ?crime .\n",
    "            ?crime a lao:PropertyCrime .\n",
    "            ?day lao:hasDate ?date ;\n",
    "                 lao:belongsTo ?period .\n",
    "            ?period lao:hasLabel ?periodLabel ;\n",
    "                    lao:hasStartDate ?startDate ;\n",
    "                    lao:hasEndDate ?endDate.\n",
    "\n",
    "            FILTER (xsd:date(?date) >= \"2020-01-01\"^^xsd:date && xsd:date(?date) <= \"2021-12-31\"^^xsd:date)\n",
    "        }\n",
    "\t\tGROUP BY ?periodLabel ?startDate ?endDate        \n",
    "\t}\n",
    "    \n",
    "\t{\n",
    "        SELECT ?periodLabel ?startDate ?endDate (COUNT(?crimeEvent) AS ?numWhiteCollarCrimes)  \n",
    "        WHERE {\n",
    "            ?crimeEvent lao:occurredOnDate ?day ;\n",
    "                        lao:isOfType ?crime . \n",
    "            ?crime a lao:WhiteCollarCrime .  \n",
    "            ?day lao:hasDate ?date ;\n",
    "                 lao:belongsTo ?period .\n",
    "            ?period lao:hasLabel ?periodLabel ;\n",
    "                    lao:hasStartDate ?startDate ;\n",
    "                    lao:hasEndDate ?endDate.\n",
    "            \n",
    "            FILTER (xsd:date(?date) >= \"2020-01-01\"^^xsd:date && xsd:date(?date) <= \"2021-12-31\"^^xsd:date)\n",
    "        }\n",
    "\t\tGROUP BY ?periodLabel ?startDate ?endDate        \n",
    "\t}\n",
    "    \n",
    "\t{\n",
    "        SELECT ?periodLabel ?startDate ?endDate (COUNT(?crimeEvent) AS ?numViolentCrimes)  \n",
    "        WHERE {\n",
    "            ?crimeEvent lao:occurredOnDate ?day ;\n",
    "                        lao:isOfType ?crime .\n",
    "            ?crime a lao:ViolentCrime .\n",
    "            ?day lao:hasDate ?date ;\n",
    "                 lao:belongsTo ?period .\n",
    "            ?period lao:hasLabel ?periodLabel ;\n",
    "                    lao:hasStartDate ?startDate ;\n",
    "                    lao:hasEndDate ?endDate.\n",
    "            \n",
    "            FILTER (xsd:date(?date) >= \"2020-01-01\"^^xsd:date && xsd:date(?date) <= \"2021-12-31\"^^xsd:date)\n",
    "        }\n",
    "    \tGROUP BY ?periodLabel ?startDate ?endDate        \n",
    "    }\n",
    "\n",
    "\t{\n",
    "        SELECT ?periodLabel ?startDate ?endDate (COUNT(?crimeEvent) AS ?numPublicOrderCrimes)  \n",
    "        WHERE {\n",
    "            ?crimeEvent lao:occurredOnDate ?day ;\n",
    "                        lao:isOfType ?crime .\n",
    "            ?crime a lao:PublicOrderCrime .\n",
    "            ?day lao:hasDate ?date ;\n",
    "                 lao:belongsTo ?period .\n",
    "            ?period lao:hasLabel ?periodLabel ;\n",
    "                    lao:hasStartDate ?startDate ;\n",
    "                    lao:hasEndDate ?endDate.\n",
    "            \n",
    "            FILTER (xsd:date(?date) >= \"2020-01-01\"^^xsd:date && xsd:date(?date) <= \"2021-12-31\"^^xsd:date)\n",
    "        }\n",
    "    \tGROUP BY ?periodLabel ?startDate ?endDate      \n",
    "    }\n",
    "    \n",
    "} \n",
    "GROUP BY ?periodLabel ?startDate ?endDate ?numSexualCrimes ?numPropertyCrimes ?numWhiteCollarCrimes ?numViolentCrimes ?numPublicOrderCrimes\n",
    "ORDER BY (?startDate)\n",
    "    "
   ]
  },
  {
   "cell_type": "markdown",
   "metadata": {},
   "source": [
    "### Query 5C: Number of Crime Events grouped by area and crime category"
   ]
  },
  {
   "cell_type": "code",
   "execution_count": null,
   "metadata": {
    "vscode": {
     "languageId": "sql"
    }
   },
   "outputs": [],
   "source": [
    "PREFIX lao: <http://www.bitsei.it/losAngelesOntology/>\n",
    "PREFIX xsd: <http://www.w3.org/2001/XMLSchema#>\n",
    "\n",
    "SELECT ?areaName ?areaAcronym ?totNumOfCrimes ?numSexualCrimes ?numPropertyCrimes ?numWhiteCollarCrimes ?numViolentCrimes ?numPublicOrderCrimes\n",
    "WHERE {\n",
    "\n",
    "    {\n",
    "        SELECT ?areaName ?areaAcronym (COUNT(?crimeEvent) AS ?numSexualCrimes)  \n",
    "        WHERE {\n",
    "            ?crimeEvent lao:occurredOnDate ?day ;\n",
    "                        lao:isOfType ?crime ;\n",
    "                        lao:occurredInLocation ?location .\n",
    "            ?location lao:belongsToArea ?area .\n",
    "            ?area lao:areaName ?areaName ;\n",
    "                  lao:areaAcronym ?areaAcronym .\n",
    "            ?crime a lao:SexualCrime .\n",
    "            ?day lao:hasDate ?date .\n",
    "\n",
    "            FILTER (xsd:date(?date) >= \"2020-01-01\"^^xsd:date && xsd:date(?date) <= \"2021-12-31\"^^xsd:date)\n",
    "\t\t}\n",
    "        GROUP BY ?periodLabel ?areaName ?areaAcronym\n",
    "    }\n",
    "    \n",
    "\t{\n",
    "        SELECT ?areaName ?areaAcronym (COUNT(?crimeEvent) AS ?numPropertyCrimes)  \n",
    "        WHERE {\n",
    "            ?crimeEvent lao:occurredOnDate ?day ;\n",
    "                        lao:isOfType ?crime ;\n",
    "                        lao:occurredInLocation ?location .\n",
    "            ?location lao:belongsToArea ?area .\n",
    "            ?area lao:areaName ?areaName ;\n",
    "                  lao:areaAcronym ?areaAcronym .\n",
    "            ?crime a lao:PropertyCrime .\n",
    "            ?day lao:hasDate ?date .\n",
    "\n",
    "            FILTER (xsd:date(?date) >= \"2020-01-01\"^^xsd:date && xsd:date(?date) <= \"2021-12-31\"^^xsd:date)\n",
    "        }\n",
    "\t\tGROUP BY ?periodLabel ?areaName ?areaAcronym\n",
    "\t}\n",
    "    \n",
    "\t{\n",
    "        SELECT ?areaName ?areaAcronym (COUNT(?crimeEvent) AS ?numWhiteCollarCrimes)  \n",
    "        WHERE {\n",
    "            ?crimeEvent lao:occurredOnDate ?day ;\n",
    "                        lao:isOfType ?crime ;\n",
    "                        lao:occurredInLocation ?location .\n",
    "            ?location lao:belongsToArea ?area .\n",
    "            ?area lao:areaName ?areaName ;\n",
    "                  lao:areaAcronym ?areaAcronym .\n",
    "            ?crime a lao:WhiteCollarCrime .  \n",
    "            ?day lao:hasDate ?date .\n",
    "            \n",
    "            FILTER (xsd:date(?date) >= \"2020-01-01\"^^xsd:date && xsd:date(?date) <= \"2021-12-31\"^^xsd:date)\n",
    "        }\n",
    "\t\tGROUP BY ?periodLabel ?areaName ?areaAcronym\n",
    "\t}\n",
    "    \n",
    "\t{\n",
    "        SELECT ?areaName ?areaAcronym (COUNT(?crimeEvent) AS ?numViolentCrimes)  \n",
    "        WHERE {\n",
    "            ?crimeEvent lao:occurredOnDate ?day ;\n",
    "                        lao:isOfType ?crime ;\n",
    "                        lao:occurredInLocation ?location .\n",
    "            ?location lao:belongsToArea ?area .\n",
    "            ?area lao:areaName ?areaName ;\n",
    "                  lao:areaAcronym ?areaAcronym .\n",
    "            ?crime a lao:ViolentCrime .\n",
    "            ?day lao:hasDate ?date .\n",
    "            \n",
    "            FILTER (xsd:date(?date) >= \"2020-01-01\"^^xsd:date && xsd:date(?date) <= \"2021-12-31\"^^xsd:date)\n",
    "        }\n",
    "    \tGROUP BY ?periodLabel ?areaName ?areaAcronym         \n",
    "    }\n",
    "\n",
    "\t{\n",
    "        SELECT ?areaName ?areaAcronym (COUNT(?crimeEvent) AS ?numPublicOrderCrimes)  \n",
    "        WHERE {\n",
    "            ?crimeEvent lao:occurredOnDate ?day ;\n",
    "                        lao:isOfType ?crime ;\n",
    "                        lao:occurredInLocation ?location .\n",
    "            ?location lao:belongsToArea ?area .\n",
    "            ?area lao:areaName ?areaName ;\n",
    "                  lao:areaAcronym ?areaAcronym .\n",
    "            ?crime a lao:PublicOrderCrime .\n",
    "            ?day lao:hasDate ?date .\n",
    "            \n",
    "            FILTER (xsd:date(?date) >= \"2020-01-01\"^^xsd:date && xsd:date(?date) <= \"2021-12-31\"^^xsd:date)\n",
    "        }\n",
    "    \tGROUP BY ?periodLabel ?areaName ?areaAcronym\n",
    "    }\n",
    "    \n",
    "    BIND((?numSexualCrimes + ?numPropertyCrimes + ?numWhiteCollarCrimes + ?numViolentCrimes + ?numPublicOrderCrimes) AS ?totNumOfCrimes)\n",
    "} \n",
    "GROUP BY ?areaName ?areaAcronym ?totNumOfCrimes ?numSexualCrimes ?numPropertyCrimes ?numWhiteCollarCrimes ?numViolentCrimes ?numPublicOrderCrimes\n",
    "ORDER BY DESC(?totNumOfCrimes)\n",
    "    "
   ]
  }
 ],
 "metadata": {
  "language_info": {
   "name": "python"
  }
 },
 "nbformat": 4,
 "nbformat_minor": 2
}
