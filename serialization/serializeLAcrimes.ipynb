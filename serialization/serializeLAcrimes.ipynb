{
 "cells": [
  {
   "cell_type": "markdown",
   "metadata": {},
   "source": [
    "## Populate the LosAngelesCovid Ontology with the crimes data"
   ]
  },
  {
   "cell_type": "code",
   "execution_count": 2,
   "metadata": {},
   "outputs": [],
   "source": [
    "# required libraries\n",
    "import pandas as pd\n",
    "import os\n",
    "from pathlib import Path\n",
    "# Load the required libraries\n",
    "from rdflib import Graph, Literal, RDF, URIRef, Namespace\n",
    "# rdflib knows about some namespaces, like FOAF\n",
    "from rdflib.namespace import FOAF, XSD\n",
    "# CHECK DATE \n",
    "from datetime import datetime\n",
    "import urllib.parse\n",
    "\n"
   ]
  },
  {
   "cell_type": "code",
   "execution_count": 3,
   "metadata": {},
   "outputs": [],
   "source": [
    "# parameters and URLs\n",
    "path = str(Path(os.path.abspath(os.getcwd())).parent.absolute())\n",
    "\n",
    "activeBusinessesData = '../datasets/ACTIVE BUSINESSES/Listing_of_Active_Businesses_parsed.csv'\n",
    "closedBusinessesData = '../datasets/CLOSED BUSINESSES/All_Closed_Businesses_20231101.csv'\n",
    "laCovidData = '../datasets/COVID DATA/sorted_los_angeles_covid_data.csv'\n",
    "\n",
    "crimeData1 = '../datasets/CRIME DATA/Crime_Data_from_2020_to_Present_1.csv'\n",
    "crimeData2 = '../datasets/CRIME DATA/Crime_Data_from_2020_to_Present_2.csv'\n",
    "crimeData3 = '../datasets/CRIME DATA/Crime_Data_from_2020_to_Present_3.csv'\n",
    "\n",
    "crimeCodesDescData = '../datasets/CRIME DATA/CrimesCodesAndDesc_listed.csv'\n",
    "crimeCodesDescData_parsed = '../datasets/CRIME DATA/CrimesCodesAndDesc_listed_parsed.csv'\n",
    "\n",
    "moCodesData = '../datasets/CRIME DATA/MO_CODES_Numerical_20191119.csv'\n",
    "moCodesData_parsed = '../datasets/CRIME DATA/MO_CODES_Numerical_20191119_parsed.csv'\n",
    "\n",
    "weaponData = '../datasets/CRIME DATA/weapon_ds.csv'\n",
    "weaponData_parsed = '../datasets/CRIME DATA/weapon_ds_parsed.csv'\n",
    "\n",
    "premisCodesData = '../datasets/CRIME DATA/premisCodesData.csv'\n",
    "premisCodesData_parsed = '../datasets/CRIME DATA/premisCodesData_parsed.csv'\n",
    "\n",
    "# saving folder\n",
    "savePath =  path"
   ]
  },
  {
   "cell_type": "code",
   "execution_count": 4,
   "metadata": {},
   "outputs": [],
   "source": [
    "# Construct the country and the movie ontology namespaces not known by RDFlib\n",
    "LAO = Namespace(\"http://www.bitsei.it/losAngelesOntology/\")"
   ]
  },
  {
   "cell_type": "markdown",
   "metadata": {},
   "source": [
    "## Crime Victims"
   ]
  },
  {
   "cell_type": "code",
   "execution_count": 5,
   "metadata": {},
   "outputs": [
    {
     "name": "stdout",
     "output_type": "stream",
     "text": [
      "   Vict Age Vict Sex Vict Descent\n",
      "0        36        F            B\n",
      "1        25        M            H\n",
      "2         0        X            X\n",
      "3        76        F            W\n",
      "4        31        X            X\n"
     ]
    }
   ],
   "source": [
    "# Load the CSV files in memory\n",
    "laVictims1 = pd.read_csv(crimeData1, sep=',', usecols=['Vict Age', 'Vict Sex', 'Vict Descent']) \n",
    "laVictims2 = pd.read_csv(crimeData2, sep=',', usecols=['Vict Age', 'Vict Sex', 'Vict Descent'])\n",
    "laVictims3 = pd.read_csv(crimeData3, sep=',', usecols=['Vict Age', 'Vict Sex', 'Vict Descent'])\n",
    "\n",
    "laVictims = pd.concat([laVictims1, laVictims2, laVictims3])\n",
    "\n",
    "print(laVictims.head())\n",
    "\n",
    "#create the graph\n",
    "g = Graph()\n",
    "\n",
    "# Bind the namespaces to a prefix for more readable output\n",
    "g.bind(\"foaf\", FOAF)\n",
    "g.bind(\"xsd\", XSD)\n",
    "#g.bind(\"countries\", CNS)\n",
    "g.bind(\"lao\", LAO)"
   ]
  },
  {
   "cell_type": "code",
   "execution_count": 6,
   "metadata": {},
   "outputs": [
    {
     "name": "stdout",
     "output_type": "stream",
     "text": [
      "--- saving serialization ---\n",
      "CPU times: total: 5.23 s\n",
      "Wall time: 18.4 s\n"
     ]
    }
   ],
   "source": [
    "%%time \n",
    "#measure execution time\n",
    "\n",
    "# Create a set to store unique combinations of sex, age, and descent\n",
    "unique_entries = set()\n",
    "\n",
    "#iterate over the laVictims1 dataframe\n",
    "for index, row in laVictims.iterrows():\n",
    "    \n",
    "    # Extract information from the current row\n",
    "    victim_age = int(row['Vict Age'])\n",
    "    if(victim_age < 0):\n",
    "        victim_age = 0\n",
    "    \n",
    "    victim_sex = str(row['Vict Sex'])\n",
    "    if(victim_sex == 'nan' or victim_sex == '-'):\n",
    "        victim_sex = 'X'\n",
    "\n",
    "    victim_descent = str(row['Vict Descent'])\n",
    "    if(victim_descent == 'nan' or victim_descent == '-'):\n",
    "        victim_descent = 'X'\n",
    "    \n",
    "    # Create the node to add to the Graph\n",
    "    # the node has the namespace + the victim id as URI\n",
    "    idU = \"victim-\"+str(victim_sex)+'-'+str(victim_age)+'-'+str(victim_descent)\n",
    "    Victim = URIRef(LAO[idU])\n",
    "\n",
    "    # If the current combination doesn't already exist\n",
    "    if ((victim_sex, victim_age, victim_descent) not in unique_entries) and ((victim_age != 0) or (victim_sex != 'X') or (victim_descent != 'X')):\n",
    "        # Add triples using store's add() method.\n",
    "        g.add((Victim, RDF.type, LAO.Victim))\n",
    "        g.add((Victim, LAO['victimSex'], Literal(str(victim_sex), datatype=XSD.string)))\n",
    "        g.add((Victim, LAO['victimAge'], Literal((victim_age), datatype=XSD.int)))    \n",
    "        g.add((Victim, LAO['victimDescent'], Literal(str(victim_descent), datatype=XSD.string)))    \n",
    "\n",
    "        unique_entries.add((victim_sex, victim_age, victim_descent))\n",
    "    \n",
    "\n",
    "print(\"--- saving serialization ---\")\n",
    "with open('crimeVictims.ttl', 'w') as file:\n",
    "        file.write(g.serialize(format='turtle'))"
   ]
  },
  {
   "cell_type": "markdown",
   "metadata": {},
   "source": [
    "## Modus Operandi"
   ]
  },
  {
   "cell_type": "markdown",
   "metadata": {},
   "source": [
    "with open(moCodesData, 'r') as file:\n",
    "    lines = file.readlines()\n",
    "\n",
    "modified_lines = [line.replace(',', '>', 1) for line in lines]\n",
    "\n",
    "with open(moCodesData_parsed, 'w') as file:\n",
    "    file.writelines(modified_lines)"
   ]
  },
  {
   "cell_type": "code",
   "execution_count": 7,
   "metadata": {},
   "outputs": [
    {
     "name": "stdout",
     "output_type": "stream",
     "text": [
      "   Code          Description\n",
      "0   100  Suspect Impersonate\n",
      "1   101           Aid victim\n",
      "2   102                Blind\n",
      "3   103  Physically disabled\n",
      "4   104             Customer\n"
     ]
    }
   ],
   "source": [
    "# Load the CSV files in memory\n",
    "modusOperandi = pd.read_csv(moCodesData_parsed, sep='>')\n",
    "print(modusOperandi.head())\n",
    "\n",
    "#create the graph\n",
    "g = Graph()\n",
    "\n",
    "# Bind the namespaces to a prefix for more readable output\n",
    "g.bind(\"foaf\", FOAF)\n",
    "g.bind(\"xsd\", XSD)\n",
    "g.bind(\"lao\", LAO)"
   ]
  },
  {
   "cell_type": "code",
   "execution_count": 8,
   "metadata": {},
   "outputs": [
    {
     "name": "stdout",
     "output_type": "stream",
     "text": [
      "--- saving serialization ---\n",
      "CPU times: total: 0 ns\n",
      "Wall time: 130 ms\n"
     ]
    }
   ],
   "source": [
    "%%time \n",
    "#measure execution time\n",
    "\n",
    "#iterate over the laVictims1 dataframe\n",
    "for index, row in modusOperandi.iterrows():\n",
    "    \n",
    "    # Extract information from the current row\n",
    "    #print(f\"{row['Code']} - {row['Description']}\")\n",
    "\n",
    "    moCode = int(row['Code'])\n",
    "    moDesc = str(row['Description'])\n",
    "    \n",
    "    # Create the node to add to the Graph\n",
    "    # the node has the namespace + the modusOperandi Code as URI\n",
    "    idU = \"modusOperandi\"+str(moCode)\n",
    "    Mo = URIRef(LAO[idU])\n",
    "\n",
    "    g.add((Mo, RDF.type, LAO.ModusOperandi))\n",
    "    g.add((Mo, LAO['moCode'], Literal((moCode), datatype=XSD.int)))    \n",
    "    g.add((Mo, LAO['moDesc'], Literal(str(moDesc), datatype=XSD.string)))    \n",
    "    \n",
    "print(\"--- saving serialization ---\")\n",
    "with open('crimeModusOperandi.ttl', 'w') as file:\n",
    "        file.write(g.serialize(format='turtle'))"
   ]
  },
  {
   "cell_type": "markdown",
   "metadata": {},
   "source": [
    "## Weapons"
   ]
  },
  {
   "cell_type": "markdown",
   "metadata": {},
   "source": [
    "with open(weaponData, 'r') as file:\n",
    "    lines = file.readlines()\n",
    "\n",
    "modified_lines = [line.replace(',', '>', 1) for line in lines]\n",
    "\n",
    "with open(weaponData_parsed, 'w') as file:\n",
    "    file.writelines(modified_lines)"
   ]
  },
  {
   "cell_type": "code",
   "execution_count": 9,
   "metadata": {},
   "outputs": [
    {
     "name": "stdout",
     "output_type": "stream",
     "text": [
      "   Weapon Used Cd                                     Weapon Desc\n",
      "0             400  STRONG-ARM (HANDS, FIST, FEET OR BODILY FORCE)\n",
      "1             212                                          BOTTLE\n",
      "2             102                                        HAND GUN\n",
      "3             500                     UNKNOWN WEAPON/OTHER WEAPON\n",
      "4             101                                        REVOLVER\n"
     ]
    }
   ],
   "source": [
    "# Load the CSV files in memory\n",
    "weapons = pd.read_csv(weaponData_parsed, sep='>')\n",
    "print(weapons.head())\n",
    "\n",
    "#create the graph\n",
    "g = Graph()\n",
    "\n",
    "# Bind the namespaces to a prefix for more readable output\n",
    "g.bind(\"foaf\", FOAF)\n",
    "g.bind(\"xsd\", XSD)\n",
    "g.bind(\"lao\", LAO)"
   ]
  },
  {
   "cell_type": "code",
   "execution_count": 10,
   "metadata": {},
   "outputs": [
    {
     "name": "stdout",
     "output_type": "stream",
     "text": [
      "--- saving serialization ---\n",
      "CPU times: total: 0 ns\n",
      "Wall time: 10.6 ms\n"
     ]
    }
   ],
   "source": [
    "%%time \n",
    "#measure execution time\n",
    "\n",
    "#iterate over the laVictims1 dataframe\n",
    "for index, row in weapons.iterrows():\n",
    "    \n",
    "    # Extract information from the current row\n",
    "    #print(f\"{row['Weapon Used Cd']} - {row['Weapon Desc']}\")\n",
    "\n",
    "    weaponCode = int(row['Weapon Used Cd'])\n",
    "    weaponDesc = str(row['Weapon Desc'])\n",
    "    \n",
    "    # Create the node to add to the Graph\n",
    "    # the node has the namespace + the modusOperandi Code as URI\n",
    "    idU = \"weapon\"+str(weaponCode)\n",
    "    Weapon = URIRef(LAO[idU])\n",
    "\n",
    "    g.add((Weapon, RDF.type, LAO.ModusOperandi))\n",
    "    g.add((Weapon, LAO['weaponCode'], Literal((weaponCode), datatype=XSD.int)))    \n",
    "    g.add((Weapon, LAO['weaponDesc'], Literal(str(weaponDesc), datatype=XSD.string)))    \n",
    "    \n",
    "print(\"--- saving serialization ---\")\n",
    "with open('crimeWeapons.ttl', 'w') as file:\n",
    "        file.write(g.serialize(format='turtle'))"
   ]
  },
  {
   "cell_type": "markdown",
   "metadata": {},
   "source": [
    "## Premis Codes"
   ]
  },
  {
   "cell_type": "markdown",
   "metadata": {},
   "source": [
    "with open(premisCodesData, 'r') as file:\n",
    "    lines = file.readlines()\n",
    "\n",
    "modified_lines = [line.replace(',', '>', 1) for line in lines]\n",
    "\n",
    "with open(premisCodesData_parsed, 'w') as file:\n",
    "    file.writelines(modified_lines)"
   ]
  },
  {
   "cell_type": "code",
   "execution_count": 11,
   "metadata": {},
   "outputs": [
    {
     "name": "stdout",
     "output_type": "stream",
     "text": [
      "   Premis Cd                                   Premis Desc\n",
      "0        221                                PUBLIC STORAGE\n",
      "1        101                                        STREET\n",
      "2        834          LA UNION STATION (NOT LINE SPECIFIC)\n",
      "3        502  MULTI-UNIT DWELLING (APARTMENT, DUPLEX, ETC)\n",
      "4        108                                   PARKING LOT\n"
     ]
    }
   ],
   "source": [
    "# Load the CSV files in memory\n",
    "premisCodes = pd.read_csv(premisCodesData_parsed, sep='>')\n",
    "print(premisCodes.head())\n",
    "\n",
    "#create the graph\n",
    "g = Graph()\n",
    "\n",
    "# Bind the namespaces to a prefix for more readable output\n",
    "g.bind(\"foaf\", FOAF)\n",
    "g.bind(\"xsd\", XSD)\n",
    "g.bind(\"lao\", LAO)"
   ]
  },
  {
   "cell_type": "code",
   "execution_count": 12,
   "metadata": {},
   "outputs": [
    {
     "name": "stdout",
     "output_type": "stream",
     "text": [
      "--- saving serialization ---\n",
      "CPU times: total: 0 ns\n",
      "Wall time: 80.6 ms\n"
     ]
    }
   ],
   "source": [
    "%%time \n",
    "#measure execution time\n",
    "\n",
    "#iterate over the laVictims1 dataframe\n",
    "for index, row in premisCodes.iterrows():\n",
    "    \n",
    "    # Extract information from the current row\n",
    "    #print(f\"{row['Premis Cd']} - {row['Premis Desc']}\")\n",
    "\n",
    "    premisCode = int(row['Premis Cd'])\n",
    "    premisDesc = str(row['Premis Desc'])\n",
    "    \n",
    "    # Create the node to add to the Graph\n",
    "    # the node has the namespace + the modusOperandi Code as URI\n",
    "    idU = \"premis\"+str(premisCode)\n",
    "    Premis = URIRef(LAO[idU])\n",
    "\n",
    "    g.add((Premis, RDF.type, LAO.Premis))\n",
    "    g.add((Premis, LAO['premisCode'], Literal((premisCode), datatype=XSD.int)))    \n",
    "    g.add((Premis, LAO['premisDesc'], Literal(str(premisDesc), datatype=XSD.string)))    \n",
    "    \n",
    "print(\"--- saving serialization ---\")\n",
    "with open('crimePremis.ttl', 'w') as file:\n",
    "        file.write(g.serialize(format='turtle'))"
   ]
  },
  {
   "cell_type": "markdown",
   "metadata": {},
   "source": [
    "## Crimes"
   ]
  },
  {
   "cell_type": "markdown",
   "metadata": {},
   "source": [
    "with open(crimeCodesDescData, 'r') as file:\n",
    "    lines = file.readlines()\n",
    "\n",
    "modified_lines = [line.replace(',', '>', 1) for line in lines]\n",
    "\n",
    "with open(crimeCodesDescData_parsed, 'w') as file:\n",
    "    file.writelines(modified_lines)"
   ]
  },
  {
   "cell_type": "code",
   "execution_count": 13,
   "metadata": {},
   "outputs": [
    {
     "name": "stdout",
     "output_type": "stream",
     "text": [
      "   Code              Description\n",
      "0   110        CRIMINAL HOMICIDE\n",
      "1   113  MANSLAUGHTER, NEGLIGENT\n",
      "2   121           RAPE, FORCIBLE\n",
      "3   122          RAPE, ATTEMPTED\n",
      "4   210                  ROBBERY\n"
     ]
    }
   ],
   "source": [
    "# Load the CSV files in memory\n",
    "crimes = pd.read_csv(crimeCodesDescData_parsed, sep='>')\n",
    "print(crimes.head())\n",
    "\n",
    "#create the graph\n",
    "g = Graph()\n",
    "\n",
    "# Bind the namespaces to a prefix for more readable output\n",
    "g.bind(\"foaf\", FOAF)\n",
    "g.bind(\"xsd\", XSD)\n",
    "g.bind(\"lao\", LAO)"
   ]
  },
  {
   "cell_type": "code",
   "execution_count": 14,
   "metadata": {},
   "outputs": [
    {
     "name": "stdout",
     "output_type": "stream",
     "text": [
      "--- saving serialization ---\n",
      "CPU times: total: 0 ns\n",
      "Wall time: 24.8 ms\n"
     ]
    }
   ],
   "source": [
    "%%time \n",
    "#measure execution time\n",
    "\n",
    "#iterate over the laVictims1 dataframe\n",
    "for index, row in crimes.iterrows():\n",
    "    \n",
    "    # Extract information from the current row\n",
    "    #print(f\"{row['Code']} - {row['Description']}\")\n",
    "\n",
    "    crimeCode = int(row['Code'])\n",
    "    crimeDesc = str(row['Description'])\n",
    "    \n",
    "    # Create the node to add to the Graph\n",
    "    # the node has the namespace + the modusOperandi Code as URI\n",
    "    idU = \"crime\"+str(crimeCode)\n",
    "    Crime = URIRef(LAO[idU])\n",
    "\n",
    "    g.add((Crime, RDF.type, LAO.Crime))\n",
    "    g.add((Crime, LAO['crimeCode'], Literal((crimeCode), datatype=XSD.int)))    \n",
    "    g.add((Crime, LAO['crimeDesc'], Literal(str(crimeDesc), datatype=XSD.string)))    \n",
    "    \n",
    "print(\"--- saving serialization ---\")\n",
    "with open('crimeCrimesTypology.ttl', 'w') as file:\n",
    "        file.write(g.serialize(format='turtle'))"
   ]
  },
  {
   "cell_type": "markdown",
   "metadata": {},
   "source": [
    "## Crime Events"
   ]
  },
  {
   "cell_type": "code",
   "execution_count": 15,
   "metadata": {},
   "outputs": [
    {
     "name": "stdout",
     "output_type": "stream",
     "text": [
      "            Date Rptd    DATE OCC  TIME OCC  AREA    AREA NAME  Rpt Dist No  \\\n",
      "DR_NO                                                                         \n",
      "10304468   2020-01-08  2020-01-08      2230     3    Southwest          377   \n",
      "190101086  2020-01-02  2020-01-01       330     1      Central          163   \n",
      "200110444  2020-04-14  2020-02-13      1200     1      Central          155   \n",
      "191501505  2020-01-01  2020-01-01      1730    15  N Hollywood         1543   \n",
      "191921269  2020-01-01  2020-01-01       415    19      Mission         1998   \n",
      "\n",
      "           Part 1-2  Crm Cd  \\\n",
      "DR_NO                         \n",
      "10304468          2     624   \n",
      "190101086         2     624   \n",
      "200110444         2     845   \n",
      "191501505         2     745   \n",
      "191921269         2     740   \n",
      "\n",
      "                                                 Crm Cd Desc         Mocodes  \\\n",
      "DR_NO                                                                          \n",
      "10304468                            BATTERY - SIMPLE ASSAULT       0444 0913   \n",
      "190101086                           BATTERY - SIMPLE ASSAULT  0416 1822 1414   \n",
      "200110444          SEX OFFENDER REGISTRANT OUT OF COMPLIANCE            1501   \n",
      "191501505           VANDALISM - MISDEAMEANOR ($399 OR UNDER)       0329 1402   \n",
      "191921269  VANDALISM - FELONY ($400 & OVER, ALL CHURCH VA...             329   \n",
      "\n",
      "           ...  Status   Status Desc Crm Cd 1  Crm Cd 2 Crm Cd 3  Crm Cd 4  \\\n",
      "DR_NO      ...                                                               \n",
      "10304468   ...      AO   Adult Other    624.0       NaN      NaN       NaN   \n",
      "190101086  ...      IC   Invest Cont    624.0       NaN      NaN       NaN   \n",
      "200110444  ...      AA  Adult Arrest    845.0       NaN      NaN       NaN   \n",
      "191501505  ...      IC   Invest Cont    745.0     998.0      NaN       NaN   \n",
      "191921269  ...      IC   Invest Cont    740.0       NaN      NaN       NaN   \n",
      "\n",
      "                                           LOCATION Cross Street      LAT  \\\n",
      "DR_NO                                                                       \n",
      "10304468    1100 W  39TH                         PL          NaN  34.0141   \n",
      "190101086    700 S  HILL                         ST          NaN  34.0459   \n",
      "200110444    200 E  6TH                          ST          NaN  34.0448   \n",
      "191501505   5400    CORTEEN                      PL          NaN  34.1685   \n",
      "191921269  14400    TITUS                        ST          NaN  34.2198   \n",
      "\n",
      "                LON  \n",
      "DR_NO                \n",
      "10304468  -118.2978  \n",
      "190101086 -118.2545  \n",
      "200110444 -118.2474  \n",
      "191501505 -118.4019  \n",
      "191921269 -118.4468  \n",
      "\n",
      "[5 rows x 27 columns]\n"
     ]
    }
   ],
   "source": [
    "# Load the CSV files in memory\n",
    "crimeEvents1 = pd.read_csv(crimeData1, sep=',', index_col='DR_NO')\n",
    "crimeEvents2 = pd.read_csv(crimeData2, sep=',', index_col='DR_NO')\n",
    "crimeEvents3 = pd.read_csv(crimeData3, sep=',', index_col='DR_NO')\n",
    "\n",
    "crimeEvents = pd.concat([crimeEvents1, crimeEvents2, crimeEvents3])\n",
    "crimeEvents['Date Rptd'] = pd.to_datetime(crimeEvents['Date Rptd'], format='%m/%d/%Y').dt.strftime('%Y-%m-%d')\n",
    "crimeEvents['DATE OCC'] = pd.to_datetime(crimeEvents['DATE OCC'], format='%m/%d/%Y').dt.strftime('%Y-%m-%d')\n",
    "\n",
    "print(crimeEvents.head())\n",
    "\n",
    "#create the graph\n",
    "g = Graph()\n",
    "\n",
    "# Bind the namespaces to a prefix for more readable output\n",
    "g.bind(\"foaf\", FOAF)\n",
    "g.bind(\"xsd\", XSD)\n",
    "g.bind(\"lao\", LAO)"
   ]
  },
  {
   "cell_type": "code",
   "execution_count": 16,
   "metadata": {},
   "outputs": [
    {
     "name": "stdout",
     "output_type": "stream",
     "text": [
      "--- saving serialization ---\n",
      "CPU times: total: 2min 30s\n",
      "Wall time: 9min 10s\n"
     ]
    }
   ],
   "source": [
    "%%time \n",
    "#measure execution time\n",
    "\n",
    "#iterate over the club dataframe\n",
    "for index, row in crimeEvents.iterrows():\n",
    "    # Create the node to add to the Graph\n",
    "    # the node has the namespace + the club id as URI\n",
    "    idU = \"crimeEvent\"+str(index)\n",
    "    CrimeEvent = URIRef(LAO[idU])\n",
    "    \n",
    "    # Add triples using store's add() method.\n",
    "    \n",
    "    # TYPE\n",
    "    g.add((CrimeEvent, RDF.type, LAO.CrimeEvent))\n",
    "\n",
    "    # DATA PROPERTIES\n",
    "    g.add((CrimeEvent, LAO['crimeId'], Literal(str(index), datatype=XSD.string)))\n",
    "\n",
    "    if(pd.isna(row['TIME OCC']) == False):\n",
    "        time_occ = str(row['TIME OCC'])\n",
    "        if(len(time_occ) < 4):\n",
    "            zeros_needed = 4 - len(time_occ)\n",
    "            time_occ = '0' * zeros_needed + time_occ \n",
    "        # Extract hours and minutes\n",
    "        hours = time_occ[:2]\n",
    "        minutes = time_occ[2:]\n",
    "        if(int(hours) > 23):\n",
    "            print(f'hours format error > 23: {hours}')\n",
    "            hours = 24\n",
    "        if(int(minutes) > 59):\n",
    "            print(f'minutes format error > 59: {minutes}')\n",
    "        store_time = '1970-01-01T' + hours + ':' + minutes + ':00'\n",
    "        #print(f'time_occ: {time_occ} - hours: {hours} - minutes: {minutes} - store_time: {store_time} \\n')\n",
    "        g.add((CrimeEvent, LAO['timeOccurred'], Literal(store_time, datatype=XSD.dateTime)))\n",
    "\n",
    "    part = int(row['Part 1-2'])\n",
    "    if (part == 2):\n",
    "        g.add((CrimeEvent, LAO['reportedToFbi'], Literal(True, datatype=XSD.boolean)))\n",
    "    else:    \n",
    "        g.add((CrimeEvent, LAO['reportedToFbi'], Literal(False, datatype=XSD.boolean)))\n",
    "\n",
    "    # OBJECT PROPERTIES\n",
    "    if(pd.isna(row[\"Date Rptd\"]) == False):\n",
    "        g.add((CrimeEvent, LAO['reportedOnDate'], LAO['day' + str(row['Date Rptd'])]))\n",
    "    \n",
    "    if(pd.isna(row[\"DATE OCC\"]) == False):\n",
    "        g.add((CrimeEvent, LAO['occurredOnDate'], LAO['day' + str(row['DATE OCC'])]))\n",
    "    \n",
    "    if(pd.isna(row[\"Crm Cd\"]) == False):\n",
    "        g.add((CrimeEvent, LAO['isOfType'], LAO['crime' + str(row['Crm Cd'])]))\n",
    "    \n",
    "    if(pd.isna(row[\"Mocodes\"]) == False):\n",
    "        mocodes_list = row['Mocodes'].split()\n",
    "        mocodes_integers = [int(code) for code in mocodes_list]\n",
    "        for code in mocodes_integers:\n",
    "            g.add((CrimeEvent, LAO['hasModusOperandi'], LAO['modusOperandi' + str(code)]))\n",
    "    \n",
    "    # Extract information about the victim from the current row\n",
    "    victim_age = int(row['Vict Age'])\n",
    "    if(victim_age < 0 or pd.isna((row['Vict Age']))):\n",
    "        victim_age = 0\n",
    "    \n",
    "    victim_sex = str(row['Vict Sex'])\n",
    "    if(victim_sex == '-' or pd.isna(row['Vict Sex'])):\n",
    "        victim_sex = 'X'\n",
    "\n",
    "    victim_descent = str(row['Vict Descent'])\n",
    "    if(victim_descent == '-' or pd.isna(row['Vict Descent'])):\n",
    "        victim_descent = 'X'\n",
    "    \n",
    "    g.add((CrimeEvent, LAO['occurredOnVictim'], LAO['victim-' + victim_sex + '-' + str(victim_age) + '-' + victim_descent]))\n",
    "    \n",
    "    if(pd.isna(row['Premis Cd']) == False):\n",
    "        premis_code = int(row['Premis Cd'])\n",
    "        g.add((CrimeEvent, LAO['hasPremis'], LAO['premis' + str(premis_code)]))\n",
    "\n",
    "    if(pd.isna(row['Weapon Used Cd']) == False):\n",
    "        weapon_code = int(row['Weapon Used Cd'])\n",
    "        g.add((CrimeEvent, LAO['usedWeapon'], LAO['weapon' + str(weapon_code)]))\n",
    "\n",
    "    if(pd.isna(row['LAT']) == False and pd.isna(row['LON']) == False):\n",
    "        coordsURI = 'lat' + str(row['LAT']) + 'lon' + str(row['LON'])\n",
    "        g.add((CrimeEvent, LAO['occurredInLocation'], LAO[coordsURI]))\n",
    "\n",
    "\n",
    "print(\"--- saving serialization ---\")\n",
    "with open('crimeCrimeEvents.ttl', 'w') as file:\n",
    "    file.write(g.serialize(format='turtle'))"
   ]
  }
 ],
 "metadata": {
  "kernelspec": {
   "display_name": "Python 3",
   "language": "python",
   "name": "python3"
  },
  "language_info": {
   "codemirror_mode": {
    "name": "ipython",
    "version": 3
   },
   "file_extension": ".py",
   "mimetype": "text/x-python",
   "name": "python",
   "nbconvert_exporter": "python",
   "pygments_lexer": "ipython3",
   "version": "3.11.3"
  }
 },
 "nbformat": 4,
 "nbformat_minor": 2
}
